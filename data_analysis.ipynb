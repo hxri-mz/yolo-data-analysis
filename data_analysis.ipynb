{
 "cells": [
  {
   "cell_type": "code",
   "execution_count": 2,
   "id": "a46ec58c",
   "metadata": {},
   "outputs": [],
   "source": [
    "import pandas as pd\n",
    "import numpy as np\n",
    "import matplotlib.pyplot as plt"
   ]
  },
  {
   "cell_type": "code",
   "execution_count": 3,
   "id": "e3c5d9e1",
   "metadata": {},
   "outputs": [],
   "source": [
    "dat = pd.read_csv('class_counts.csv')"
   ]
  },
  {
   "cell_type": "code",
   "execution_count": 4,
   "id": "dba111d1",
   "metadata": {},
   "outputs": [],
   "source": [
    "class_names = {0: 'person', 1: 'bicycle', 2: 'car', 3: 'motorcycle', 4: 'airplane', 5: 'bus', 6: 'train', 7: 'truck', 8: 'boat', 9: 'traffic light', 10: 'fire hydrant', 11: 'stop sign', 12: 'parking meter', 13: 'bench', 14: 'bird', 15: 'cat', 16: 'dog', 17: 'horse', 18: 'sheep', 19: 'cow', 20: 'elephant', 21: 'bear', 22: 'zebra', 23: 'giraffe', 24: 'backpack', 25: 'umbrella', 26: 'handbag', 27: 'tie', 28: 'suitcase', 29: 'frisbee', 30: 'skis', 31: 'snowboard', 32: 'sports ball', 33: 'kite', 34: 'baseball bat', 35: 'baseball glove', 36: 'skateboard', 37: 'surfboard', 38: 'tennis racket', 39: 'bottle', 40: 'wine glass', 41: 'cup', 42: 'fork', 43: 'knife', 44: 'spoon', 45: 'bowl', 46: 'banana', 47: 'apple', 48: 'sandwich', 49: 'orange', 50: 'broccoli', 51: 'carrot', 52: 'hot dog', 53: 'pizza', 54: 'donut', 55: 'cake', 56: 'chair', 57: 'couch', 58: 'potted plant', 59: 'bed', 60: 'dining table', 61: 'toilet', 62: 'tv', 63: 'laptop', 64: 'mouse', 65: 'remote', 66: 'keyboard', 67: 'cell phone', 68: 'microwave', 69: 'oven', 70: 'toaster', 71: 'sink', 72: 'refrigerator', 73: 'book', 74: 'clock', 75: 'vase', 76: 'scissors', 77: 'teddy bear', 78: 'hair drier', 79: 'toothbrush'}"
   ]
  },
  {
   "cell_type": "code",
   "execution_count": 5,
   "id": "550f3166",
   "metadata": {},
   "outputs": [
    {
     "data": {
      "text/html": [
       "<div>\n",
       "<style scoped>\n",
       "    .dataframe tbody tr th:only-of-type {\n",
       "        vertical-align: middle;\n",
       "    }\n",
       "\n",
       "    .dataframe tbody tr th {\n",
       "        vertical-align: top;\n",
       "    }\n",
       "\n",
       "    .dataframe thead th {\n",
       "        text-align: right;\n",
       "    }\n",
       "</style>\n",
       "<table border=\"1\" class=\"dataframe\">\n",
       "  <thead>\n",
       "    <tr style=\"text-align: right;\">\n",
       "      <th></th>\n",
       "      <th>file</th>\n",
       "      <th>2</th>\n",
       "      <th>3</th>\n",
       "      <th>7</th>\n",
       "      <th>58</th>\n",
       "      <th>0</th>\n",
       "      <th>10</th>\n",
       "      <th>6</th>\n",
       "      <th>5</th>\n",
       "      <th>11</th>\n",
       "      <th>...</th>\n",
       "      <th>49</th>\n",
       "      <th>39</th>\n",
       "      <th>45</th>\n",
       "      <th>29</th>\n",
       "      <th>62</th>\n",
       "      <th>36</th>\n",
       "      <th>35</th>\n",
       "      <th>15</th>\n",
       "      <th>20</th>\n",
       "      <th>75</th>\n",
       "    </tr>\n",
       "  </thead>\n",
       "  <tbody>\n",
       "    <tr>\n",
       "      <th>0</th>\n",
       "      <td>2025-02-13_15-24-30.972/rgb/CAM_FRONT/00000000...</td>\n",
       "      <td>15</td>\n",
       "      <td>1</td>\n",
       "      <td>0</td>\n",
       "      <td>0</td>\n",
       "      <td>0</td>\n",
       "      <td>0</td>\n",
       "      <td>0</td>\n",
       "      <td>0</td>\n",
       "      <td>0</td>\n",
       "      <td>...</td>\n",
       "      <td>0</td>\n",
       "      <td>0</td>\n",
       "      <td>0</td>\n",
       "      <td>0</td>\n",
       "      <td>0</td>\n",
       "      <td>0</td>\n",
       "      <td>0</td>\n",
       "      <td>0</td>\n",
       "      <td>0</td>\n",
       "      <td>0</td>\n",
       "    </tr>\n",
       "    <tr>\n",
       "      <th>1</th>\n",
       "      <td>2025-02-13_15-24-30.972/rgb/CAM_FRONT/00000050...</td>\n",
       "      <td>12</td>\n",
       "      <td>0</td>\n",
       "      <td>1</td>\n",
       "      <td>0</td>\n",
       "      <td>0</td>\n",
       "      <td>0</td>\n",
       "      <td>0</td>\n",
       "      <td>0</td>\n",
       "      <td>0</td>\n",
       "      <td>...</td>\n",
       "      <td>0</td>\n",
       "      <td>0</td>\n",
       "      <td>0</td>\n",
       "      <td>0</td>\n",
       "      <td>0</td>\n",
       "      <td>0</td>\n",
       "      <td>0</td>\n",
       "      <td>0</td>\n",
       "      <td>0</td>\n",
       "      <td>0</td>\n",
       "    </tr>\n",
       "    <tr>\n",
       "      <th>2</th>\n",
       "      <td>2025-02-13_15-24-30.972/rgb/CAM_FRONT/00000100...</td>\n",
       "      <td>6</td>\n",
       "      <td>3</td>\n",
       "      <td>0</td>\n",
       "      <td>2</td>\n",
       "      <td>0</td>\n",
       "      <td>0</td>\n",
       "      <td>0</td>\n",
       "      <td>0</td>\n",
       "      <td>0</td>\n",
       "      <td>...</td>\n",
       "      <td>0</td>\n",
       "      <td>0</td>\n",
       "      <td>0</td>\n",
       "      <td>0</td>\n",
       "      <td>0</td>\n",
       "      <td>0</td>\n",
       "      <td>0</td>\n",
       "      <td>0</td>\n",
       "      <td>0</td>\n",
       "      <td>0</td>\n",
       "    </tr>\n",
       "    <tr>\n",
       "      <th>3</th>\n",
       "      <td>2025-02-13_15-24-30.972/rgb/CAM_FRONT/00000150...</td>\n",
       "      <td>10</td>\n",
       "      <td>3</td>\n",
       "      <td>0</td>\n",
       "      <td>0</td>\n",
       "      <td>0</td>\n",
       "      <td>0</td>\n",
       "      <td>0</td>\n",
       "      <td>0</td>\n",
       "      <td>0</td>\n",
       "      <td>...</td>\n",
       "      <td>0</td>\n",
       "      <td>0</td>\n",
       "      <td>0</td>\n",
       "      <td>0</td>\n",
       "      <td>0</td>\n",
       "      <td>0</td>\n",
       "      <td>0</td>\n",
       "      <td>0</td>\n",
       "      <td>0</td>\n",
       "      <td>0</td>\n",
       "    </tr>\n",
       "    <tr>\n",
       "      <th>4</th>\n",
       "      <td>2025-02-13_15-24-30.972/rgb/CAM_FRONT/00000200...</td>\n",
       "      <td>7</td>\n",
       "      <td>3</td>\n",
       "      <td>0</td>\n",
       "      <td>0</td>\n",
       "      <td>0</td>\n",
       "      <td>0</td>\n",
       "      <td>0</td>\n",
       "      <td>0</td>\n",
       "      <td>0</td>\n",
       "      <td>...</td>\n",
       "      <td>0</td>\n",
       "      <td>0</td>\n",
       "      <td>0</td>\n",
       "      <td>0</td>\n",
       "      <td>0</td>\n",
       "      <td>0</td>\n",
       "      <td>0</td>\n",
       "      <td>0</td>\n",
       "      <td>0</td>\n",
       "      <td>0</td>\n",
       "    </tr>\n",
       "    <tr>\n",
       "      <th>...</th>\n",
       "      <td>...</td>\n",
       "      <td>...</td>\n",
       "      <td>...</td>\n",
       "      <td>...</td>\n",
       "      <td>...</td>\n",
       "      <td>...</td>\n",
       "      <td>...</td>\n",
       "      <td>...</td>\n",
       "      <td>...</td>\n",
       "      <td>...</td>\n",
       "      <td>...</td>\n",
       "      <td>...</td>\n",
       "      <td>...</td>\n",
       "      <td>...</td>\n",
       "      <td>...</td>\n",
       "      <td>...</td>\n",
       "      <td>...</td>\n",
       "      <td>...</td>\n",
       "      <td>...</td>\n",
       "      <td>...</td>\n",
       "      <td>...</td>\n",
       "    </tr>\n",
       "    <tr>\n",
       "      <th>7662</th>\n",
       "      <td>2025-04-15_14-51-02.145-0-32/rgb/CAM_FRONT/000...</td>\n",
       "      <td>0</td>\n",
       "      <td>1</td>\n",
       "      <td>0</td>\n",
       "      <td>0</td>\n",
       "      <td>1</td>\n",
       "      <td>0</td>\n",
       "      <td>0</td>\n",
       "      <td>0</td>\n",
       "      <td>0</td>\n",
       "      <td>...</td>\n",
       "      <td>0</td>\n",
       "      <td>0</td>\n",
       "      <td>0</td>\n",
       "      <td>0</td>\n",
       "      <td>0</td>\n",
       "      <td>0</td>\n",
       "      <td>0</td>\n",
       "      <td>0</td>\n",
       "      <td>0</td>\n",
       "      <td>0</td>\n",
       "    </tr>\n",
       "    <tr>\n",
       "      <th>7663</th>\n",
       "      <td>2025-04-15_14-51-02.145-0-32/rgb/CAM_FRONT/000...</td>\n",
       "      <td>0</td>\n",
       "      <td>0</td>\n",
       "      <td>0</td>\n",
       "      <td>0</td>\n",
       "      <td>0</td>\n",
       "      <td>0</td>\n",
       "      <td>0</td>\n",
       "      <td>0</td>\n",
       "      <td>0</td>\n",
       "      <td>...</td>\n",
       "      <td>0</td>\n",
       "      <td>0</td>\n",
       "      <td>0</td>\n",
       "      <td>0</td>\n",
       "      <td>0</td>\n",
       "      <td>0</td>\n",
       "      <td>0</td>\n",
       "      <td>0</td>\n",
       "      <td>0</td>\n",
       "      <td>0</td>\n",
       "    </tr>\n",
       "    <tr>\n",
       "      <th>7664</th>\n",
       "      <td>2025-04-15_14-51-02.145-0-32/rgb/CAM_FRONT/000...</td>\n",
       "      <td>0</td>\n",
       "      <td>1</td>\n",
       "      <td>0</td>\n",
       "      <td>0</td>\n",
       "      <td>0</td>\n",
       "      <td>0</td>\n",
       "      <td>0</td>\n",
       "      <td>0</td>\n",
       "      <td>0</td>\n",
       "      <td>...</td>\n",
       "      <td>0</td>\n",
       "      <td>0</td>\n",
       "      <td>0</td>\n",
       "      <td>0</td>\n",
       "      <td>0</td>\n",
       "      <td>0</td>\n",
       "      <td>0</td>\n",
       "      <td>0</td>\n",
       "      <td>0</td>\n",
       "      <td>0</td>\n",
       "    </tr>\n",
       "    <tr>\n",
       "      <th>7665</th>\n",
       "      <td>2025-04-15_14-51-02.145-0-32/rgb/CAM_FRONT/000...</td>\n",
       "      <td>2</td>\n",
       "      <td>0</td>\n",
       "      <td>0</td>\n",
       "      <td>0</td>\n",
       "      <td>2</td>\n",
       "      <td>0</td>\n",
       "      <td>0</td>\n",
       "      <td>0</td>\n",
       "      <td>0</td>\n",
       "      <td>...</td>\n",
       "      <td>0</td>\n",
       "      <td>0</td>\n",
       "      <td>0</td>\n",
       "      <td>0</td>\n",
       "      <td>0</td>\n",
       "      <td>0</td>\n",
       "      <td>0</td>\n",
       "      <td>0</td>\n",
       "      <td>0</td>\n",
       "      <td>0</td>\n",
       "    </tr>\n",
       "    <tr>\n",
       "      <th>7666</th>\n",
       "      <td>2025-04-15_14-51-02.145-0-32/rgb/CAM_FRONT/000...</td>\n",
       "      <td>2</td>\n",
       "      <td>0</td>\n",
       "      <td>1</td>\n",
       "      <td>0</td>\n",
       "      <td>1</td>\n",
       "      <td>0</td>\n",
       "      <td>0</td>\n",
       "      <td>0</td>\n",
       "      <td>0</td>\n",
       "      <td>...</td>\n",
       "      <td>0</td>\n",
       "      <td>0</td>\n",
       "      <td>0</td>\n",
       "      <td>0</td>\n",
       "      <td>0</td>\n",
       "      <td>0</td>\n",
       "      <td>0</td>\n",
       "      <td>0</td>\n",
       "      <td>0</td>\n",
       "      <td>0</td>\n",
       "    </tr>\n",
       "  </tbody>\n",
       "</table>\n",
       "<p>7667 rows × 49 columns</p>\n",
       "</div>"
      ],
      "text/plain": [
       "                                                   file   2  3  7  58  0  10  \\\n",
       "0     2025-02-13_15-24-30.972/rgb/CAM_FRONT/00000000...  15  1  0   0  0   0   \n",
       "1     2025-02-13_15-24-30.972/rgb/CAM_FRONT/00000050...  12  0  1   0  0   0   \n",
       "2     2025-02-13_15-24-30.972/rgb/CAM_FRONT/00000100...   6  3  0   2  0   0   \n",
       "3     2025-02-13_15-24-30.972/rgb/CAM_FRONT/00000150...  10  3  0   0  0   0   \n",
       "4     2025-02-13_15-24-30.972/rgb/CAM_FRONT/00000200...   7  3  0   0  0   0   \n",
       "...                                                 ...  .. .. ..  .. ..  ..   \n",
       "7662  2025-04-15_14-51-02.145-0-32/rgb/CAM_FRONT/000...   0  1  0   0  1   0   \n",
       "7663  2025-04-15_14-51-02.145-0-32/rgb/CAM_FRONT/000...   0  0  0   0  0   0   \n",
       "7664  2025-04-15_14-51-02.145-0-32/rgb/CAM_FRONT/000...   0  1  0   0  0   0   \n",
       "7665  2025-04-15_14-51-02.145-0-32/rgb/CAM_FRONT/000...   2  0  0   0  2   0   \n",
       "7666  2025-04-15_14-51-02.145-0-32/rgb/CAM_FRONT/000...   2  0  1   0  1   0   \n",
       "\n",
       "      6  5  11  ...  49  39  45  29  62  36  35  15  20  75  \n",
       "0     0  0   0  ...   0   0   0   0   0   0   0   0   0   0  \n",
       "1     0  0   0  ...   0   0   0   0   0   0   0   0   0   0  \n",
       "2     0  0   0  ...   0   0   0   0   0   0   0   0   0   0  \n",
       "3     0  0   0  ...   0   0   0   0   0   0   0   0   0   0  \n",
       "4     0  0   0  ...   0   0   0   0   0   0   0   0   0   0  \n",
       "...  .. ..  ..  ...  ..  ..  ..  ..  ..  ..  ..  ..  ..  ..  \n",
       "7662  0  0   0  ...   0   0   0   0   0   0   0   0   0   0  \n",
       "7663  0  0   0  ...   0   0   0   0   0   0   0   0   0   0  \n",
       "7664  0  0   0  ...   0   0   0   0   0   0   0   0   0   0  \n",
       "7665  0  0   0  ...   0   0   0   0   0   0   0   0   0   0  \n",
       "7666  0  0   0  ...   0   0   0   0   0   0   0   0   0   0  \n",
       "\n",
       "[7667 rows x 49 columns]"
      ]
     },
     "execution_count": 5,
     "metadata": {},
     "output_type": "execute_result"
    }
   ],
   "source": [
    "dat"
   ]
  },
  {
   "cell_type": "code",
   "execution_count": 6,
   "id": "73449302",
   "metadata": {},
   "outputs": [],
   "source": [
    "cars = dat['2']"
   ]
  },
  {
   "cell_type": "code",
   "execution_count": 7,
   "id": "e7e2f002",
   "metadata": {},
   "outputs": [
    {
     "data": {
      "text/plain": [
       "[<matplotlib.lines.Line2D at 0x73b5af7ccb50>]"
      ]
     },
     "execution_count": 7,
     "metadata": {},
     "output_type": "execute_result"
    },
    {
     "data": {
      "image/png": "[encoded data removed]",
      "text/plain": [
       "<Figure size 640x480 with 1 Axes>"
      ]
     },
     "metadata": {},
     "output_type": "display_data"
    }
   ],
   "source": [
    "plt.plot(cars)"
   ]
  },
  {
   "cell_type": "code",
   "execution_count": null,
   "id": "cbcf5220",
   "metadata": {},
   "outputs": [],
   "source": [
    "subclass = [1, 2, 3, 5, 6]"
   ]
  },
  {
   "cell_type": "code",
   "execution_count": 8,
   "id": "60853447",
   "metadata": {},
   "outputs": [
    {
     "data": {
      "text/plain": [
       "(array([2.866e+03, 2.031e+03, 1.031e+03, 7.120e+02, 3.170e+02, 4.270e+02,\n",
       "        2.170e+02, 5.100e+01, 1.300e+01, 2.000e+00]),\n",
       " array([ 0. ,  1.8,  3.6,  5.4,  7.2,  9. , 10.8, 12.6, 14.4, 16.2, 18. ]),\n",
       " <BarContainer object of 10 artists>)"
      ]
     },
     "execution_count": 8,
     "metadata": {},
     "output_type": "execute_result"
    },
    {
     "data": {
      "image/png": "[encoded data removed]",
      "text/plain": [
       "<Figure size 640x480 with 1 Axes>"
      ]
     },
     "metadata": {},
     "output_type": "display_data"
    }
   ],
   "source": [
    "plt.hist(cars)"
   ]
  },
  {
   "cell_type": "code",
   "execution_count": 15,
   "id": "a9050a19",
   "metadata": {},
   "outputs": [
    {
     "data": {
      "text/plain": [
       "(array([5.528e+03, 1.269e+03, 5.080e+02, 2.140e+02, 6.000e+01, 6.500e+01,\n",
       "        1.400e+01, 4.000e+00, 3.000e+00, 2.000e+00]),\n",
       " array([ 0. ,  1.8,  3.6,  5.4,  7.2,  9. , 10.8, 12.6, 14.4, 16.2, 18. ]),\n",
       " <BarContainer object of 10 artists>)"
      ]
     },
     "execution_count": 15,
     "metadata": {},
     "output_type": "execute_result"
    },
    {
     "data": {
      "image/png": "[encoded data removed]",
      "text/plain": [
       "<Figure size 640x480 with 1 Axes>"
      ]
     },
     "metadata": {},
     "output_type": "display_data"
    }
   ],
   "source": [
    "plt.hist(dat['0'])"
   ]
  },
  {
   "cell_type": "code",
   "execution_count": null,
   "id": "3e28a260",
   "metadata": {},
   "outputs": [],
   "source": [
    "import json\n",
    "dat2 = json.load(open('results.json', 'rb'))"
   ]
  },
  {
   "cell_type": "code",
   "execution_count": 10,
   "id": "9bbee675",
   "metadata": {},
   "outputs": [
    {
     "data": {
      "text/plain": [
       "{'2': 25432,\n",
       " '3': 8920,\n",
       " '7': 5686,\n",
       " '58': 333,\n",
       " '0': 9429,\n",
       " '10': 39,\n",
       " '6': 79,\n",
       " '5': 1720,\n",
       " '11': 85,\n",
       " '13': 48,\n",
       " '9': 240,\n",
       " '1': 186,\n",
       " '24': 184,\n",
       " '25': 148,\n",
       " '74': 16,\n",
       " '16': 34,\n",
       " '26': 29,\n",
       " '59': 2,\n",
       " '72': 4,\n",
       " '19': 12,\n",
       " '12': 6,\n",
       " '56': 26,\n",
       " '60': 4,\n",
       " '17': 6,\n",
       " '14': 21,\n",
       " '50': 3,\n",
       " '23': 2,\n",
       " '48': 1,\n",
       " '57': 2,\n",
       " '32': 4,\n",
       " '33': 22,\n",
       " '28': 5,\n",
       " '46': 5,\n",
       " '4': 2,\n",
       " '37': 1,\n",
       " '27': 4,\n",
       " '8': 1,\n",
       " '47': 1,\n",
       " '49': 1,\n",
       " '39': 1,\n",
       " '45': 2,\n",
       " '29': 3,\n",
       " '62': 1,\n",
       " '36': 5,\n",
       " '35': 1,\n",
       " '15': 1,\n",
       " '20': 2,\n",
       " '75': 1}"
      ]
     },
     "execution_count": 10,
     "metadata": {},
     "output_type": "execute_result"
    }
   ],
   "source": [
    "dat2"
   ]
  },
  {
   "cell_type": "code",
   "execution_count": 22,
   "id": "4867fdc5",
   "metadata": {},
   "outputs": [
    {
     "data": {
      "text/plain": [
       "{'2': 25432,\n",
       " '3': 8920,\n",
       " '7': 5686,\n",
       " '58': 333,\n",
       " '0': 9429,\n",
       " '10': 39,\n",
       " '6': 79,\n",
       " '5': 1720,\n",
       " '11': 85,\n",
       " '13': 48,\n",
       " '9': 240,\n",
       " '1': 186,\n",
       " '24': 184,\n",
       " '25': 148,\n",
       " '74': 16,\n",
       " '16': 34,\n",
       " '26': 29,\n",
       " '59': 2,\n",
       " '72': 4,\n",
       " '19': 12,\n",
       " '12': 6,\n",
       " '56': 26,\n",
       " '60': 4,\n",
       " '17': 6,\n",
       " '14': 21,\n",
       " '50': 3,\n",
       " '23': 2,\n",
       " '48': 1,\n",
       " '57': 2,\n",
       " '32': 4,\n",
       " '33': 22,\n",
       " '28': 5,\n",
       " '46': 5,\n",
       " '4': 2,\n",
       " '37': 1,\n",
       " '27': 4,\n",
       " '8': 1,\n",
       " '47': 1,\n",
       " '49': 1,\n",
       " '39': 1,\n",
       " '45': 2,\n",
       " '29': 3,\n",
       " '62': 1,\n",
       " '36': 5,\n",
       " '35': 1,\n",
       " '15': 1,\n",
       " '20': 2,\n",
       " '75': 1}"
      ]
     },
     "execution_count": 22,
     "metadata": {},
     "output_type": "execute_result"
    }
   ],
   "source": [
    "dat2"
   ]
  },
  {
   "cell_type": "code",
   "execution_count": 27,
   "id": "eea70190",
   "metadata": {},
   "outputs": [],
   "source": [
    "car = 0\n",
    "motorcycle = 0\n",
    "autorickshaw = 0\n",
    "pedestrain = 0\n",
    "others = 0\n",
    "\n",
    "cls = [2, 3, 7, 0]\n",
    "\n",
    "for key, value in dat2.items():\n",
    "    if int(key) not in cls:\n",
    "        others += value\n",
    "    elif int(key) == 2:\n",
    "        car += value\n",
    "    elif int(key) == 3:\n",
    "        motorcycle += value\n",
    "    elif int(key) == 0:\n",
    "        pedestrain += value\n",
    "    elif int(key) == 7:\n",
    "        autorickshaw += value"
   ]
  },
  {
   "cell_type": "code",
   "execution_count": 30,
   "id": "a0751ab7",
   "metadata": {},
   "outputs": [
    {
     "data": {
      "text/plain": [
       "([<matplotlib.patches.Wedge at 0x73b5a72628f0>,\n",
       "  <matplotlib.patches.Wedge at 0x73b5a7262830>,\n",
       "  <matplotlib.patches.Wedge at 0x73b5a7263340>,\n",
       "  <matplotlib.patches.Wedge at 0x73b5a7263880>,\n",
       "  <matplotlib.patches.Wedge at 0x73b5a7263dc0>],\n",
       " [Text(0.06206041777582462, 1.0982479248992416, 'Car'),\n",
       "  Text(-1.0051839277845802, -0.44677205745610843, 'Motorcycle'),\n",
       "  Text(-0.0659179214164246, -1.098023145309851, 'Pedestrain'),\n",
       "  Text(0.819152013714029, -0.7341593685489898, 'Autorickshaw'),\n",
       "  Text(1.078921401095313, -0.21430961308006488, 'Others')])"
      ]
     },
     "execution_count": 30,
     "metadata": {},
     "output_type": "execute_result"
    },
    {
     "data": {
      "image/png": "[encoded data removed]",
      "text/plain": [
       "<Figure size 640x480 with 1 Axes>"
      ]
     },
     "metadata": {},
     "output_type": "display_data"
    }
   ],
   "source": [
    "plt.pie([car, motorcycle, pedestrain, autorickshaw, others], labels=['Car', 'Motorcycle', 'Pedestrain', 'Autorickshaw', 'Others'])"
   ]
  },
  {
   "cell_type": "code",
   "execution_count": null,
   "id": "f3fe0271",
   "metadata": {},
   "outputs": [],
   "source": []
  }
 ],
 "metadata": {
  "kernelspec": {
   "display_name": "yoloda",
   "language": "python",
   "name": "python3"
  },
  "language_info": {
   "codemirror_mode": {
    "name": "ipython",
    "version": 3
   },
   "file_extension": ".py",
   "mimetype": "text/x-python",
   "name": "python",
   "nbconvert_exporter": "python",
   "pygments_lexer": "ipython3",
   "version": "3.10.17"
  }
 },
 "nbformat": 4,
 "nbformat_minor": 5
}
